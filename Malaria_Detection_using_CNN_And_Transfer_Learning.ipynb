{
  "nbformat": 4,
  "nbformat_minor": 0,
  "metadata": {
    "kernelspec": {
      "display_name": "Python 3",
      "language": "python",
      "name": "python3"
    },
    "language_info": {
      "codemirror_mode": {
        "name": "ipython",
        "version": 3
      },
      "file_extension": ".py",
      "mimetype": "text/x-python",
      "name": "python",
      "nbconvert_exporter": "python",
      "pygments_lexer": "ipython3",
      "version": "3.7.4"
    },
    "colab": {
      "name": "Malaria Detection using CNN And Transfer Learning.ipynb",
      "provenance": []
    },
    "accelerator": "GPU"
  },
  "cells": [
    {
      "cell_type": "markdown",
      "metadata": {
        "id": "EloRPffb183s"
      },
      "source": [
        "## Creating CNN Using Scratch And Transfer Learning"
      ]
    },
    {
      "cell_type": "markdown",
      "metadata": {
        "id": "xPvleJSP183t"
      },
      "source": [
        "Please download the dataset from the below url"
      ]
    },
    {
      "cell_type": "code",
      "metadata": {
        "id": "z6rnKVSX2Gng",
        "outputId": "3ffdfebd-1dcb-4c54-dd89-bd039a5e3b27",
        "colab": {
          "base_uri": "https://localhost:8080/"
        }
      },
      "source": [
        "from google.colab import drive\n",
        "drive.mount('/content/drive')"
      ],
      "execution_count": 37,
      "outputs": [
        {
          "output_type": "stream",
          "text": [
            "Drive already mounted at /content/drive; to attempt to forcibly remount, call drive.mount(\"/content/drive\", force_remount=True).\n"
          ],
          "name": "stdout"
        }
      ]
    },
    {
      "cell_type": "code",
      "metadata": {
        "id": "hxrJ9mnQ183u"
      },
      "source": [
        "# import the libraries as shown below\n",
        "\n",
        "from tensorflow.keras.layers import Input, Lambda, Dense, Flatten,Conv2D\n",
        "from tensorflow.keras.models import Model\n",
        "from tensorflow.keras.applications.vgg19 import VGG19\n",
        "from tensorflow.keras.applications.resnet50 import preprocess_input\n",
        "from tensorflow.keras.preprocessing import image\n",
        "from tensorflow.keras.preprocessing.image import ImageDataGenerator,load_img\n",
        "from tensorflow.keras.models import Sequential\n",
        "import numpy as np\n",
        "from glob import glob\n",
        "import matplotlib.pyplot as plt"
      ],
      "execution_count": 38,
      "outputs": []
    },
    {
      "cell_type": "code",
      "metadata": {
        "id": "7NwohNux183z"
      },
      "source": [
        "# re-size all the images to this\n",
        "IMAGE_SIZE = [224, 224]\n",
        "\n",
        "train_path = '/content/drive/My Drive/Malaria-Detection-master/Dataset/Train'\n",
        "valid_path = '/content/drive/My Drive/Malaria-Detection-master/Dataset/Test'\n"
      ],
      "execution_count": 39,
      "outputs": []
    },
    {
      "cell_type": "code",
      "metadata": {
        "id": "7Uxbmt8l1834"
      },
      "source": [
        "# Import the Vgg 16 library as shown below and add preprocessing layer to the front of VGG\n",
        "# Here we will be using imagenet weights\n",
        "\n",
        "vgg19 = VGG19(input_shape=IMAGE_SIZE + [3], weights='imagenet', include_top=False)\n",
        "\n",
        "\n"
      ],
      "execution_count": 40,
      "outputs": []
    },
    {
      "cell_type": "code",
      "metadata": {
        "id": "lp5b9hm31839"
      },
      "source": [
        "# don't train existing weights\n",
        "for layer in vgg19.layers:\n",
        "    layer.trainable = False"
      ],
      "execution_count": 41,
      "outputs": []
    },
    {
      "cell_type": "code",
      "metadata": {
        "id": "PKpUEJ9N184B"
      },
      "source": [
        "  # useful for getting number of output classes\n",
        "folders = glob('/content/drive/My Drive/Malaria-Detection-master/Dataset/Train/*')"
      ],
      "execution_count": 42,
      "outputs": []
    },
    {
      "cell_type": "code",
      "metadata": {
        "id": "XOk9pfHF184E",
        "outputId": "16317543-385a-4ccf-bdaa-d5d1ac69d820",
        "colab": {
          "base_uri": "https://localhost:8080/"
        }
      },
      "source": [
        "folders"
      ],
      "execution_count": 43,
      "outputs": [
        {
          "output_type": "execute_result",
          "data": {
            "text/plain": [
              "['/content/drive/My Drive/Malaria-Detection-master/Dataset/Train/Uninfected',\n",
              " '/content/drive/My Drive/Malaria-Detection-master/Dataset/Train/Parasite']"
            ]
          },
          "metadata": {
            "tags": []
          },
          "execution_count": 43
        }
      ]
    },
    {
      "cell_type": "code",
      "metadata": {
        "id": "eeNAABLh184J"
      },
      "source": [
        "# our layers - you can add more if you want\n",
        "x = Flatten()(vgg19.output)"
      ],
      "execution_count": 44,
      "outputs": []
    },
    {
      "cell_type": "code",
      "metadata": {
        "id": "zDQNeBMj184N"
      },
      "source": [
        "prediction = Dense(len(folders), activation='softmax')(x)\n",
        "\n",
        "# create a model object\n",
        "model = Model(inputs=vgg19.input, outputs=prediction)"
      ],
      "execution_count": 45,
      "outputs": []
    },
    {
      "cell_type": "code",
      "metadata": {
        "id": "9mVuteIv184R",
        "outputId": "78080878-67d7-45db-a8f9-1bc05b34ac03",
        "colab": {
          "base_uri": "https://localhost:8080/"
        }
      },
      "source": [
        "# view the structure of the model\n",
        "model.summary()\n"
      ],
      "execution_count": 46,
      "outputs": [
        {
          "output_type": "stream",
          "text": [
            "Model: \"functional_3\"\n",
            "_________________________________________________________________\n",
            "Layer (type)                 Output Shape              Param #   \n",
            "=================================================================\n",
            "input_2 (InputLayer)         [(None, 224, 224, 3)]     0         \n",
            "_________________________________________________________________\n",
            "block1_conv1 (Conv2D)        (None, 224, 224, 64)      1792      \n",
            "_________________________________________________________________\n",
            "block1_conv2 (Conv2D)        (None, 224, 224, 64)      36928     \n",
            "_________________________________________________________________\n",
            "block1_pool (MaxPooling2D)   (None, 112, 112, 64)      0         \n",
            "_________________________________________________________________\n",
            "block2_conv1 (Conv2D)        (None, 112, 112, 128)     73856     \n",
            "_________________________________________________________________\n",
            "block2_conv2 (Conv2D)        (None, 112, 112, 128)     147584    \n",
            "_________________________________________________________________\n",
            "block2_pool (MaxPooling2D)   (None, 56, 56, 128)       0         \n",
            "_________________________________________________________________\n",
            "block3_conv1 (Conv2D)        (None, 56, 56, 256)       295168    \n",
            "_________________________________________________________________\n",
            "block3_conv2 (Conv2D)        (None, 56, 56, 256)       590080    \n",
            "_________________________________________________________________\n",
            "block3_conv3 (Conv2D)        (None, 56, 56, 256)       590080    \n",
            "_________________________________________________________________\n",
            "block3_conv4 (Conv2D)        (None, 56, 56, 256)       590080    \n",
            "_________________________________________________________________\n",
            "block3_pool (MaxPooling2D)   (None, 28, 28, 256)       0         \n",
            "_________________________________________________________________\n",
            "block4_conv1 (Conv2D)        (None, 28, 28, 512)       1180160   \n",
            "_________________________________________________________________\n",
            "block4_conv2 (Conv2D)        (None, 28, 28, 512)       2359808   \n",
            "_________________________________________________________________\n",
            "block4_conv3 (Conv2D)        (None, 28, 28, 512)       2359808   \n",
            "_________________________________________________________________\n",
            "block4_conv4 (Conv2D)        (None, 28, 28, 512)       2359808   \n",
            "_________________________________________________________________\n",
            "block4_pool (MaxPooling2D)   (None, 14, 14, 512)       0         \n",
            "_________________________________________________________________\n",
            "block5_conv1 (Conv2D)        (None, 14, 14, 512)       2359808   \n",
            "_________________________________________________________________\n",
            "block5_conv2 (Conv2D)        (None, 14, 14, 512)       2359808   \n",
            "_________________________________________________________________\n",
            "block5_conv3 (Conv2D)        (None, 14, 14, 512)       2359808   \n",
            "_________________________________________________________________\n",
            "block5_conv4 (Conv2D)        (None, 14, 14, 512)       2359808   \n",
            "_________________________________________________________________\n",
            "block5_pool (MaxPooling2D)   (None, 7, 7, 512)         0         \n",
            "_________________________________________________________________\n",
            "flatten_2 (Flatten)          (None, 25088)             0         \n",
            "_________________________________________________________________\n",
            "dense_3 (Dense)              (None, 2)                 50178     \n",
            "=================================================================\n",
            "Total params: 20,074,562\n",
            "Trainable params: 50,178\n",
            "Non-trainable params: 20,024,384\n",
            "_________________________________________________________________\n"
          ],
          "name": "stdout"
        }
      ]
    },
    {
      "cell_type": "code",
      "metadata": {
        "id": "VDB4mvkB184U"
      },
      "source": [
        "from tensorflow.keras.layers import MaxPooling2D"
      ],
      "execution_count": 47,
      "outputs": []
    },
    {
      "cell_type": "code",
      "metadata": {
        "id": "JHibhQRS184X",
        "outputId": "d7cc4289-773c-4a8f-c049-5ed6a2d9dd35",
        "colab": {
          "base_uri": "https://localhost:8080/"
        }
      },
      "source": [
        "### Create Model from scratch using CNN\n",
        "model=Sequential()\n",
        "model.add(Conv2D(filters=16,kernel_size=2,padding=\"same\",activation=\"relu\",input_shape=(224,224,3)))\n",
        "model.add(MaxPooling2D(pool_size=2))\n",
        "model.add(Conv2D(filters=32,kernel_size=2,padding=\"same\",activation =\"relu\"))\n",
        "model.add(MaxPooling2D(pool_size=2))\n",
        "model.add(Conv2D(filters=64,kernel_size=2,padding=\"same\",activation=\"relu\"))\n",
        "model.add(MaxPooling2D(pool_size=2))\n",
        "model.add(Flatten())\n",
        "model.add(Dense(500,activation=\"relu\"))\n",
        "model.add(Dense(2,activation=\"softmax\"))\n",
        "model.summary()"
      ],
      "execution_count": 48,
      "outputs": [
        {
          "output_type": "stream",
          "text": [
            "Model: \"sequential_1\"\n",
            "_________________________________________________________________\n",
            "Layer (type)                 Output Shape              Param #   \n",
            "=================================================================\n",
            "conv2d_3 (Conv2D)            (None, 224, 224, 16)      208       \n",
            "_________________________________________________________________\n",
            "max_pooling2d_3 (MaxPooling2 (None, 112, 112, 16)      0         \n",
            "_________________________________________________________________\n",
            "conv2d_4 (Conv2D)            (None, 112, 112, 32)      2080      \n",
            "_________________________________________________________________\n",
            "max_pooling2d_4 (MaxPooling2 (None, 56, 56, 32)        0         \n",
            "_________________________________________________________________\n",
            "conv2d_5 (Conv2D)            (None, 56, 56, 64)        8256      \n",
            "_________________________________________________________________\n",
            "max_pooling2d_5 (MaxPooling2 (None, 28, 28, 64)        0         \n",
            "_________________________________________________________________\n",
            "flatten_3 (Flatten)          (None, 50176)             0         \n",
            "_________________________________________________________________\n",
            "dense_4 (Dense)              (None, 500)               25088500  \n",
            "_________________________________________________________________\n",
            "dense_5 (Dense)              (None, 2)                 1002      \n",
            "=================================================================\n",
            "Total params: 25,100,046\n",
            "Trainable params: 25,100,046\n",
            "Non-trainable params: 0\n",
            "_________________________________________________________________\n"
          ],
          "name": "stdout"
        }
      ]
    },
    {
      "cell_type": "code",
      "metadata": {
        "id": "3iPYYU_j184b"
      },
      "source": [
        "# tell the model what cost and optimization method to use\n",
        "model.compile(\n",
        "  loss='categorical_crossentropy',\n",
        "  optimizer='adam',\n",
        "  metrics=['accuracy']\n",
        ")\n"
      ],
      "execution_count": 49,
      "outputs": []
    },
    {
      "cell_type": "code",
      "metadata": {
        "id": "Acud1OZT184e"
      },
      "source": [
        "# Use the Image Data Generator to import the images from the dataset\n",
        "from tensorflow.keras.preprocessing.image import ImageDataGenerator\n",
        "\n",
        "train_datagen = ImageDataGenerator(rescale = 1./255,\n",
        "                                   shear_range = 0.2,\n",
        "                                   zoom_range = 0.2,\n",
        "                                   horizontal_flip = True)\n",
        "\n",
        "test_datagen = ImageDataGenerator(rescale = 1./255)"
      ],
      "execution_count": 50,
      "outputs": []
    },
    {
      "cell_type": "code",
      "metadata": {
        "id": "zwDoBe9s184h",
        "outputId": "f1678c4c-796b-4333-9dfb-e0477957b2c3",
        "colab": {
          "base_uri": "https://localhost:8080/"
        }
      },
      "source": [
        "# Make sure you provide the same target size as initialied for the image size\n",
        "training_set = train_datagen.flow_from_directory('/content/drive/My Drive/Malaria-Detection-master/Dataset/Train',\n",
        "                                                 target_size = (224, 224),\n",
        "                                                 batch_size = 32,\n",
        "                                                 class_mode = 'categorical')"
      ],
      "execution_count": 51,
      "outputs": [
        {
          "output_type": "stream",
          "text": [
            "Found 416 images belonging to 2 classes.\n"
          ],
          "name": "stdout"
        }
      ]
    },
    {
      "cell_type": "code",
      "metadata": {
        "id": "0b-BHWe7184k",
        "outputId": "33b4f2ea-d5fe-4b44-b82a-fd0ea6ee74d4",
        "colab": {
          "base_uri": "https://localhost:8080/"
        }
      },
      "source": [
        "training_set"
      ],
      "execution_count": 52,
      "outputs": [
        {
          "output_type": "execute_result",
          "data": {
            "text/plain": [
              "<tensorflow.python.keras.preprocessing.image.DirectoryIterator at 0x7fdc304d9a20>"
            ]
          },
          "metadata": {
            "tags": []
          },
          "execution_count": 52
        }
      ]
    },
    {
      "cell_type": "code",
      "metadata": {
        "id": "byLU5asg184o",
        "outputId": "9a36232a-97ad-4f0f-c21a-b162a34977eb",
        "colab": {
          "base_uri": "https://localhost:8080/"
        }
      },
      "source": [
        "test_set = test_datagen.flow_from_directory('/content/drive/My Drive/Malaria-Detection-master/Dataset/Test',\n",
        "                                            target_size = (224, 224),\n",
        "                                            batch_size = 32,\n",
        "                                            class_mode = 'categorical')"
      ],
      "execution_count": 53,
      "outputs": [
        {
          "output_type": "stream",
          "text": [
            "Found 134 images belonging to 2 classes.\n"
          ],
          "name": "stdout"
        }
      ]
    },
    {
      "cell_type": "code",
      "metadata": {
        "scrolled": true,
        "id": "ek9ycHkH184r",
        "outputId": "58ea986d-7c18-4725-db5a-6737b32fcdb7",
        "colab": {
          "base_uri": "https://localhost:8080/"
        }
      },
      "source": [
        "# fit the model\n",
        "# Run the cell. It will take some time to execute\n",
        "r = model.fit_generator(\n",
        "  training_set,\n",
        "  validation_data=test_set,\n",
        "  epochs=50,\n",
        "  steps_per_epoch=len(training_set),\n",
        "  validation_steps=len(test_set)\n",
        ")"
      ],
      "execution_count": 54,
      "outputs": [
        {
          "output_type": "stream",
          "text": [
            "Epoch 1/50\n",
            "13/13 [==============================] - 5s 358ms/step - loss: 2.1839 - accuracy: 0.5216 - val_loss: 0.8191 - val_accuracy: 0.3582\n",
            "Epoch 2/50\n",
            "13/13 [==============================] - 4s 343ms/step - loss: 0.5832 - accuracy: 0.7019 - val_loss: 0.8701 - val_accuracy: 0.3134\n",
            "Epoch 3/50\n",
            "13/13 [==============================] - 4s 345ms/step - loss: 0.4577 - accuracy: 0.7740 - val_loss: 1.1334 - val_accuracy: 0.3582\n",
            "Epoch 4/50\n",
            "13/13 [==============================] - 4s 345ms/step - loss: 0.4790 - accuracy: 0.7716 - val_loss: 0.6527 - val_accuracy: 0.5821\n",
            "Epoch 5/50\n",
            "13/13 [==============================] - 5s 348ms/step - loss: 0.4294 - accuracy: 0.8005 - val_loss: 0.9344 - val_accuracy: 0.4328\n",
            "Epoch 6/50\n",
            "13/13 [==============================] - 5s 351ms/step - loss: 0.3813 - accuracy: 0.8125 - val_loss: 0.9388 - val_accuracy: 0.5373\n",
            "Epoch 7/50\n",
            "13/13 [==============================] - 5s 349ms/step - loss: 0.3373 - accuracy: 0.8486 - val_loss: 0.7428 - val_accuracy: 0.5746\n",
            "Epoch 8/50\n",
            "13/13 [==============================] - 5s 349ms/step - loss: 0.3091 - accuracy: 0.8846 - val_loss: 0.6828 - val_accuracy: 0.6269\n",
            "Epoch 9/50\n",
            "13/13 [==============================] - 5s 351ms/step - loss: 0.3360 - accuracy: 0.8630 - val_loss: 0.5443 - val_accuracy: 0.6567\n",
            "Epoch 10/50\n",
            "13/13 [==============================] - 5s 352ms/step - loss: 0.2620 - accuracy: 0.8918 - val_loss: 0.7666 - val_accuracy: 0.5821\n",
            "Epoch 11/50\n",
            "13/13 [==============================] - 5s 352ms/step - loss: 0.2565 - accuracy: 0.9159 - val_loss: 0.3834 - val_accuracy: 0.8358\n",
            "Epoch 12/50\n",
            "13/13 [==============================] - 5s 357ms/step - loss: 0.2324 - accuracy: 0.9159 - val_loss: 0.4406 - val_accuracy: 0.7537\n",
            "Epoch 13/50\n",
            "13/13 [==============================] - 5s 352ms/step - loss: 0.1808 - accuracy: 0.9375 - val_loss: 0.3619 - val_accuracy: 0.8134\n",
            "Epoch 14/50\n",
            "13/13 [==============================] - 5s 358ms/step - loss: 0.1958 - accuracy: 0.9375 - val_loss: 0.6191 - val_accuracy: 0.7015\n",
            "Epoch 15/50\n",
            "13/13 [==============================] - 5s 360ms/step - loss: 0.2730 - accuracy: 0.9014 - val_loss: 0.4395 - val_accuracy: 0.7463\n",
            "Epoch 16/50\n",
            "13/13 [==============================] - 5s 356ms/step - loss: 0.2037 - accuracy: 0.9255 - val_loss: 0.5302 - val_accuracy: 0.7463\n",
            "Epoch 17/50\n",
            "13/13 [==============================] - 5s 352ms/step - loss: 0.1607 - accuracy: 0.9495 - val_loss: 0.3049 - val_accuracy: 0.8731\n",
            "Epoch 18/50\n",
            "13/13 [==============================] - 5s 377ms/step - loss: 0.1330 - accuracy: 0.9567 - val_loss: 0.3769 - val_accuracy: 0.8284\n",
            "Epoch 19/50\n",
            "13/13 [==============================] - 5s 375ms/step - loss: 0.1240 - accuracy: 0.9615 - val_loss: 0.3254 - val_accuracy: 0.8507\n",
            "Epoch 20/50\n",
            "13/13 [==============================] - 5s 359ms/step - loss: 0.1163 - accuracy: 0.9639 - val_loss: 0.2781 - val_accuracy: 0.8507\n",
            "Epoch 21/50\n",
            "13/13 [==============================] - 5s 355ms/step - loss: 0.1120 - accuracy: 0.9688 - val_loss: 0.3167 - val_accuracy: 0.8507\n",
            "Epoch 22/50\n",
            "13/13 [==============================] - 5s 356ms/step - loss: 0.1001 - accuracy: 0.9688 - val_loss: 0.2987 - val_accuracy: 0.8806\n",
            "Epoch 23/50\n",
            "13/13 [==============================] - 5s 356ms/step - loss: 0.0990 - accuracy: 0.9736 - val_loss: 0.2266 - val_accuracy: 0.9328\n",
            "Epoch 24/50\n",
            "13/13 [==============================] - 5s 359ms/step - loss: 0.0702 - accuracy: 0.9760 - val_loss: 0.5201 - val_accuracy: 0.7910\n",
            "Epoch 25/50\n",
            "13/13 [==============================] - 5s 359ms/step - loss: 0.1071 - accuracy: 0.9688 - val_loss: 0.2338 - val_accuracy: 0.9030\n",
            "Epoch 26/50\n",
            "13/13 [==============================] - 5s 360ms/step - loss: 0.1000 - accuracy: 0.9712 - val_loss: 0.3832 - val_accuracy: 0.8507\n",
            "Epoch 27/50\n",
            "13/13 [==============================] - 5s 361ms/step - loss: 0.0920 - accuracy: 0.9688 - val_loss: 0.2909 - val_accuracy: 0.8731\n",
            "Epoch 28/50\n",
            "13/13 [==============================] - 5s 361ms/step - loss: 0.0961 - accuracy: 0.9712 - val_loss: 0.2707 - val_accuracy: 0.9030\n",
            "Epoch 29/50\n",
            "13/13 [==============================] - 5s 361ms/step - loss: 0.0736 - accuracy: 0.9784 - val_loss: 0.2614 - val_accuracy: 0.9104\n",
            "Epoch 30/50\n",
            "13/13 [==============================] - 5s 367ms/step - loss: 0.0793 - accuracy: 0.9736 - val_loss: 0.3217 - val_accuracy: 0.8731\n",
            "Epoch 31/50\n",
            "13/13 [==============================] - 5s 368ms/step - loss: 0.1525 - accuracy: 0.9471 - val_loss: 0.7485 - val_accuracy: 0.6791\n",
            "Epoch 32/50\n",
            "13/13 [==============================] - 5s 362ms/step - loss: 0.4132 - accuracy: 0.8413 - val_loss: 0.5288 - val_accuracy: 0.7687\n",
            "Epoch 33/50\n",
            "13/13 [==============================] - 5s 360ms/step - loss: 0.3038 - accuracy: 0.8894 - val_loss: 0.5168 - val_accuracy: 0.7164\n",
            "Epoch 34/50\n",
            "13/13 [==============================] - 5s 364ms/step - loss: 0.1941 - accuracy: 0.9279 - val_loss: 0.3422 - val_accuracy: 0.8358\n",
            "Epoch 35/50\n",
            "13/13 [==============================] - 5s 373ms/step - loss: 0.1736 - accuracy: 0.9375 - val_loss: 0.2448 - val_accuracy: 0.8806\n",
            "Epoch 36/50\n",
            "13/13 [==============================] - 5s 358ms/step - loss: 0.0912 - accuracy: 0.9736 - val_loss: 0.3138 - val_accuracy: 0.8806\n",
            "Epoch 37/50\n",
            "13/13 [==============================] - 5s 361ms/step - loss: 0.0679 - accuracy: 0.9784 - val_loss: 0.3075 - val_accuracy: 0.8806\n",
            "Epoch 38/50\n",
            "13/13 [==============================] - 5s 360ms/step - loss: 0.0499 - accuracy: 0.9784 - val_loss: 0.1673 - val_accuracy: 0.9328\n",
            "Epoch 39/50\n",
            "13/13 [==============================] - 5s 361ms/step - loss: 0.0550 - accuracy: 0.9928 - val_loss: 0.3528 - val_accuracy: 0.8955\n",
            "Epoch 40/50\n",
            "13/13 [==============================] - 5s 358ms/step - loss: 0.0543 - accuracy: 0.9856 - val_loss: 0.1862 - val_accuracy: 0.9179\n",
            "Epoch 41/50\n",
            "13/13 [==============================] - 5s 360ms/step - loss: 0.0561 - accuracy: 0.9832 - val_loss: 0.3189 - val_accuracy: 0.8881\n",
            "Epoch 42/50\n",
            "13/13 [==============================] - 5s 360ms/step - loss: 0.0456 - accuracy: 0.9856 - val_loss: 0.2163 - val_accuracy: 0.9179\n",
            "Epoch 43/50\n",
            "13/13 [==============================] - 5s 366ms/step - loss: 0.0467 - accuracy: 0.9952 - val_loss: 0.5351 - val_accuracy: 0.8582\n",
            "Epoch 44/50\n",
            "13/13 [==============================] - 5s 362ms/step - loss: 0.0660 - accuracy: 0.9808 - val_loss: 0.2064 - val_accuracy: 0.8955\n",
            "Epoch 45/50\n",
            "13/13 [==============================] - 5s 365ms/step - loss: 0.0333 - accuracy: 0.9928 - val_loss: 0.3605 - val_accuracy: 0.8881\n",
            "Epoch 46/50\n",
            "13/13 [==============================] - 5s 367ms/step - loss: 0.0472 - accuracy: 0.9856 - val_loss: 0.3013 - val_accuracy: 0.8806\n",
            "Epoch 47/50\n",
            "13/13 [==============================] - 5s 368ms/step - loss: 0.0473 - accuracy: 0.9880 - val_loss: 0.3848 - val_accuracy: 0.8731\n",
            "Epoch 48/50\n",
            "13/13 [==============================] - 5s 359ms/step - loss: 0.0516 - accuracy: 0.9856 - val_loss: 0.2031 - val_accuracy: 0.9030\n",
            "Epoch 49/50\n",
            "13/13 [==============================] - 5s 365ms/step - loss: 0.0301 - accuracy: 0.9952 - val_loss: 0.3144 - val_accuracy: 0.8955\n",
            "Epoch 50/50\n",
            "13/13 [==============================] - 5s 368ms/step - loss: 0.1266 - accuracy: 0.9615 - val_loss: 0.3282 - val_accuracy: 0.8507\n"
          ],
          "name": "stdout"
        }
      ]
    },
    {
      "cell_type": "code",
      "metadata": {
        "id": "Bu-WpnWj184y",
        "outputId": "4695d13f-3d5c-45a7-b404-e72fc9024d80",
        "colab": {
          "base_uri": "https://localhost:8080/",
          "height": 530
        }
      },
      "source": [
        "# plot the loss\n",
        "plt.plot(r.history['loss'], label='train loss')\n",
        "plt.plot(r.history['val_loss'], label='val loss')\n",
        "plt.legend()\n",
        "plt.show()\n",
        "plt.savefig('LossVal_loss')\n",
        "\n",
        "# plot the accuracy\n",
        "plt.plot(r.history['accuracy'], label='train acc')\n",
        "plt.plot(r.history['val_accuracy'], label='val acc')\n",
        "plt.legend()\n",
        "plt.show()\n",
        "plt.savefig('AccVal_acc')"
      ],
      "execution_count": 55,
      "outputs": [
        {
          "output_type": "display_data",
          "data": {
            "image/png": "[encoded data removed]",
            "text/plain": [
              "<Figure size 432x288 with 1 Axes>"
            ]
          },
          "metadata": {
            "tags": [],
            "needs_background": "light"
          }
        },
        {
          "output_type": "display_data",
          "data": {
            "image/png": "[encoded data removed]",
            "text/plain": [
              "<Figure size 432x288 with 1 Axes>"
            ]
          },
          "metadata": {
            "tags": [],
            "needs_background": "light"
          }
        },
        {
          "output_type": "display_data",
          "data": {
            "text/plain": [
              "<Figure size 432x288 with 0 Axes>"
            ]
          },
          "metadata": {
            "tags": []
          }
        }
      ]
    },
    {
      "cell_type": "code",
      "metadata": {
        "id": "H_UMUU1F1842"
      },
      "source": [
        "# save it as a h5 file\n",
        "\n",
        "\n",
        "from tensorflow.keras.models import load_model\n",
        "\n",
        "model.save('model_vgg19.h5')"
      ],
      "execution_count": 56,
      "outputs": []
    },
    {
      "cell_type": "code",
      "metadata": {
        "id": "a0AkOgEW184-"
      },
      "source": [
        "\n",
        "y_pred = model.predict(test_set)\n"
      ],
      "execution_count": 57,
      "outputs": []
    },
    {
      "cell_type": "code",
      "metadata": {
        "id": "ZVl62bbE185C",
        "outputId": "fc97ad85-2d3a-4109-b937-413e943660a1",
        "colab": {
          "base_uri": "https://localhost:8080/"
        }
      },
      "source": [
        "y_pred"
      ],
      "execution_count": 58,
      "outputs": [
        {
          "output_type": "execute_result",
          "data": {
            "text/plain": [
              "array([[9.84190524e-01, 1.58094708e-02],\n",
              "       [1.11311048e-01, 8.88688982e-01],\n",
              "       [7.65189648e-01, 2.34810382e-01],\n",
              "       [6.82250023e-01, 3.17750007e-01],\n",
              "       [1.62926897e-01, 8.37073147e-01],\n",
              "       [5.81209004e-01, 4.18790966e-01],\n",
              "       [9.62765336e-01, 3.72347124e-02],\n",
              "       [9.70866978e-01, 2.91330144e-02],\n",
              "       [9.92200911e-01, 7.79912993e-03],\n",
              "       [9.87031937e-01, 1.29680047e-02],\n",
              "       [4.90757287e-01, 5.09242713e-01],\n",
              "       [6.56063914e-01, 3.43936056e-01],\n",
              "       [7.34116137e-01, 2.65883833e-01],\n",
              "       [9.83332872e-01, 1.66671723e-02],\n",
              "       [9.99803603e-01, 1.96424662e-04],\n",
              "       [2.67680645e-01, 7.32319415e-01],\n",
              "       [9.96888459e-01, 3.11152916e-03],\n",
              "       [5.15735090e-01, 4.84264851e-01],\n",
              "       [9.70751792e-02, 9.02924836e-01],\n",
              "       [1.43310940e-02, 9.85668898e-01],\n",
              "       [7.23476052e-01, 2.76523888e-01],\n",
              "       [7.23819554e-01, 2.76180506e-01],\n",
              "       [9.97933030e-01, 2.06693332e-03],\n",
              "       [5.82893848e-01, 4.17106211e-01],\n",
              "       [3.27049136e-01, 6.72950864e-01],\n",
              "       [8.32435131e-01, 1.67564839e-01],\n",
              "       [9.99484062e-01, 5.15878957e-04],\n",
              "       [8.02386552e-02, 9.19761360e-01],\n",
              "       [4.79748279e-01, 5.20251751e-01],\n",
              "       [2.72954348e-02, 9.72704530e-01],\n",
              "       [5.35147130e-01, 4.64852899e-01],\n",
              "       [7.48854816e-01, 2.51145214e-01],\n",
              "       [9.62397516e-01, 3.76024581e-02],\n",
              "       [9.99993205e-01, 6.75407045e-06],\n",
              "       [4.46854502e-01, 5.53145468e-01],\n",
              "       [9.24157381e-01, 7.58425817e-02],\n",
              "       [9.97361362e-01, 2.63861660e-03],\n",
              "       [4.04852688e-01, 5.95147371e-01],\n",
              "       [3.92050952e-01, 6.07949018e-01],\n",
              "       [9.99606431e-01, 3.93626629e-04],\n",
              "       [6.27597749e-01, 3.72402310e-01],\n",
              "       [2.53783643e-01, 7.46216297e-01],\n",
              "       [2.53280044e-01, 7.46719956e-01],\n",
              "       [9.84298363e-02, 9.01570141e-01],\n",
              "       [2.37667248e-01, 7.62332797e-01],\n",
              "       [1.31708220e-01, 8.68291736e-01],\n",
              "       [5.99763691e-01, 4.00236279e-01],\n",
              "       [9.41374302e-01, 5.86256571e-02],\n",
              "       [8.24601352e-01, 1.75398603e-01],\n",
              "       [4.72987503e-01, 5.27012527e-01],\n",
              "       [9.98480141e-01, 1.51992589e-03],\n",
              "       [9.99376118e-01, 6.23925065e-04],\n",
              "       [9.19168949e-01, 8.08309987e-02],\n",
              "       [9.99848485e-01, 1.51517248e-04],\n",
              "       [9.10213947e-01, 8.97860378e-02],\n",
              "       [8.94952476e-01, 1.05047517e-01],\n",
              "       [1.74350038e-01, 8.25649977e-01],\n",
              "       [9.25520241e-01, 7.44797587e-02],\n",
              "       [6.81771457e-01, 3.18228543e-01],\n",
              "       [9.85505521e-01, 1.44945038e-02],\n",
              "       [8.05613637e-01, 1.94386393e-01],\n",
              "       [2.93144286e-01, 7.06855714e-01],\n",
              "       [9.99330997e-01, 6.69047819e-04],\n",
              "       [9.99364078e-01, 6.35918404e-04],\n",
              "       [8.41861844e-01, 1.58138171e-01],\n",
              "       [9.99400616e-01, 5.99373248e-04],\n",
              "       [9.95423615e-01, 4.57634404e-03],\n",
              "       [4.53850627e-01, 5.46149373e-01],\n",
              "       [9.97819901e-01, 2.18008854e-03],\n",
              "       [3.68282706e-01, 6.31717265e-01],\n",
              "       [9.97076988e-01, 2.92302854e-03],\n",
              "       [9.99374568e-01, 6.25432178e-04],\n",
              "       [1.71898916e-01, 8.28101099e-01],\n",
              "       [9.99993324e-01, 6.72510350e-06],\n",
              "       [9.85002458e-01, 1.49974795e-02],\n",
              "       [9.96182501e-01, 3.81749938e-03],\n",
              "       [7.10803688e-01, 2.89196342e-01],\n",
              "       [2.84848601e-01, 7.15151429e-01],\n",
              "       [9.49003816e-01, 5.09962216e-02],\n",
              "       [9.71895397e-01, 2.81045604e-02],\n",
              "       [9.99519110e-01, 4.80856979e-04],\n",
              "       [4.01278526e-01, 5.98721504e-01],\n",
              "       [6.94216043e-02, 9.30578411e-01],\n",
              "       [7.49711931e-01, 2.50288010e-01],\n",
              "       [9.98792768e-01, 1.20721792e-03],\n",
              "       [9.97734785e-01, 2.26516253e-03],\n",
              "       [3.69733214e-01, 6.30266786e-01],\n",
              "       [8.35886121e-01, 1.64113849e-01],\n",
              "       [3.42982084e-01, 6.57017946e-01],\n",
              "       [3.06347132e-01, 6.93652868e-01],\n",
              "       [9.87911999e-01, 1.20879309e-02],\n",
              "       [7.31629491e-01, 2.68370539e-01],\n",
              "       [9.96230423e-01, 3.76958936e-03],\n",
              "       [9.97651279e-01, 2.34879274e-03],\n",
              "       [3.96787852e-01, 6.03212118e-01],\n",
              "       [6.51289940e-01, 3.48710001e-01],\n",
              "       [9.33874786e-01, 6.61252066e-02],\n",
              "       [9.84451175e-01, 1.55487629e-02],\n",
              "       [6.62291646e-01, 3.37708354e-01],\n",
              "       [9.99835014e-01, 1.65001547e-04],\n",
              "       [5.27232647e-01, 4.72767383e-01],\n",
              "       [9.97549713e-01, 2.45025824e-03],\n",
              "       [9.99097943e-01, 9.02060186e-04],\n",
              "       [6.95755482e-01, 3.04244518e-01],\n",
              "       [9.95862007e-01, 4.13801661e-03],\n",
              "       [9.90108132e-01, 9.89181269e-03],\n",
              "       [4.68604624e-01, 5.31395435e-01],\n",
              "       [9.99354303e-01, 6.45691413e-04],\n",
              "       [9.99809325e-01, 1.90664927e-04],\n",
              "       [1.08134530e-01, 8.91865432e-01],\n",
              "       [2.01163620e-01, 7.98836410e-01],\n",
              "       [9.96913433e-01, 3.08648869e-03],\n",
              "       [4.50794518e-01, 5.49205542e-01],\n",
              "       [9.27109480e-01, 7.28905052e-02],\n",
              "       [5.23765124e-02, 9.47623551e-01],\n",
              "       [1.55783996e-01, 8.44215989e-01],\n",
              "       [9.45303917e-01, 5.46960346e-02],\n",
              "       [7.77238607e-02, 9.22276139e-01],\n",
              "       [9.99771893e-01, 2.28075252e-04],\n",
              "       [7.75488377e-01, 2.24511623e-01],\n",
              "       [9.74528491e-01, 2.54715160e-02],\n",
              "       [1.07840948e-01, 8.92159104e-01],\n",
              "       [9.98215199e-01, 1.78478123e-03],\n",
              "       [7.72590488e-02, 9.22740996e-01],\n",
              "       [1.23714447e-01, 8.76285553e-01],\n",
              "       [8.39612484e-02, 9.16038692e-01],\n",
              "       [9.96641159e-01, 3.35886981e-03],\n",
              "       [9.93995011e-01, 6.00505294e-03],\n",
              "       [2.15187162e-01, 7.84812808e-01],\n",
              "       [6.83532376e-03, 9.93164718e-01],\n",
              "       [1.99397922e-01, 8.00602078e-01],\n",
              "       [9.99916196e-01, 8.38465494e-05],\n",
              "       [1.54403463e-01, 8.45596552e-01],\n",
              "       [4.75080013e-01, 5.24919987e-01]], dtype=float32)"
            ]
          },
          "metadata": {
            "tags": []
          },
          "execution_count": 58
        }
      ]
    },
    {
      "cell_type": "code",
      "metadata": {
        "id": "KP8QSDe7185G"
      },
      "source": [
        "import numpy as np\n",
        "y_pred = np.argmax(y_pred, axis=1)"
      ],
      "execution_count": 59,
      "outputs": []
    },
    {
      "cell_type": "code",
      "metadata": {
        "id": "3uB0Ho0o185J",
        "outputId": "04e0ad2d-d6e5-4213-a3d6-973441be308f",
        "colab": {
          "base_uri": "https://localhost:8080/"
        }
      },
      "source": [
        "y_pred"
      ],
      "execution_count": 60,
      "outputs": [
        {
          "output_type": "execute_result",
          "data": {
            "text/plain": [
              "array([0, 1, 0, 0, 1, 0, 0, 0, 0, 0, 1, 0, 0, 0, 0, 1, 0, 0, 1, 1, 0, 0,\n",
              "       0, 0, 1, 0, 0, 1, 1, 1, 0, 0, 0, 0, 1, 0, 0, 1, 1, 0, 0, 1, 1, 1,\n",
              "       1, 1, 0, 0, 0, 1, 0, 0, 0, 0, 0, 0, 1, 0, 0, 0, 0, 1, 0, 0, 0, 0,\n",
              "       0, 1, 0, 1, 0, 0, 1, 0, 0, 0, 0, 1, 0, 0, 0, 1, 1, 0, 0, 0, 1, 0,\n",
              "       1, 1, 0, 0, 0, 0, 1, 0, 0, 0, 0, 0, 0, 0, 0, 0, 0, 0, 1, 0, 0, 1,\n",
              "       1, 0, 1, 0, 1, 1, 0, 1, 0, 0, 0, 1, 0, 1, 1, 1, 0, 0, 1, 1, 1, 0,\n",
              "       1, 1])"
            ]
          },
          "metadata": {
            "tags": []
          },
          "execution_count": 60
        }
      ]
    },
    {
      "cell_type": "code",
      "metadata": {
        "id": "9RfJbBuj185N"
      },
      "source": [
        ""
      ],
      "execution_count": 60,
      "outputs": []
    },
    {
      "cell_type": "code",
      "metadata": {
        "id": "gPveNxry185R"
      },
      "source": [
        "from tensorflow.keras.models import load_model\n",
        "from tensorflow.keras.preprocessing import image"
      ],
      "execution_count": 61,
      "outputs": []
    },
    {
      "cell_type": "code",
      "metadata": {
        "id": "7M2hUpbn185V"
      },
      "source": [
        "\n",
        "model=load_model('model_vgg19.h5')"
      ],
      "execution_count": 62,
      "outputs": []
    },
    {
      "cell_type": "code",
      "metadata": {
        "id": "3P4OsrZh185Y"
      },
      "source": [
        ""
      ],
      "execution_count": 62,
      "outputs": []
    },
    {
      "cell_type": "code",
      "metadata": {
        "id": "8qM4bnDw185a"
      },
      "source": [
        "img=image.load_img('/content/drive/My Drive/Malaria-Detection-master/Dataset/Test/Uninfected/2.png',target_size=(224,224))\n",
        "\n"
      ],
      "execution_count": 63,
      "outputs": []
    },
    {
      "cell_type": "code",
      "metadata": {
        "id": "fIvKYE97185e",
        "outputId": "8e9e1822-20bf-4a7a-b584-3cdc353fcdef",
        "colab": {
          "base_uri": "https://localhost:8080/"
        }
      },
      "source": [
        "x=image.img_to_array(img)\n",
        "x"
      ],
      "execution_count": 64,
      "outputs": [
        {
          "output_type": "execute_result",
          "data": {
            "text/plain": [
              "array([[[0., 0., 0.],\n",
              "        [0., 0., 0.],\n",
              "        [0., 0., 0.],\n",
              "        ...,\n",
              "        [0., 0., 0.],\n",
              "        [0., 0., 0.],\n",
              "        [0., 0., 0.]],\n",
              "\n",
              "       [[0., 0., 0.],\n",
              "        [0., 0., 0.],\n",
              "        [0., 0., 0.],\n",
              "        ...,\n",
              "        [0., 0., 0.],\n",
              "        [0., 0., 0.],\n",
              "        [0., 0., 0.]],\n",
              "\n",
              "       [[0., 0., 0.],\n",
              "        [0., 0., 0.],\n",
              "        [0., 0., 0.],\n",
              "        ...,\n",
              "        [0., 0., 0.],\n",
              "        [0., 0., 0.],\n",
              "        [0., 0., 0.]],\n",
              "\n",
              "       ...,\n",
              "\n",
              "       [[0., 0., 0.],\n",
              "        [0., 0., 0.],\n",
              "        [0., 0., 0.],\n",
              "        ...,\n",
              "        [0., 0., 0.],\n",
              "        [0., 0., 0.],\n",
              "        [0., 0., 0.]],\n",
              "\n",
              "       [[0., 0., 0.],\n",
              "        [0., 0., 0.],\n",
              "        [0., 0., 0.],\n",
              "        ...,\n",
              "        [0., 0., 0.],\n",
              "        [0., 0., 0.],\n",
              "        [0., 0., 0.]],\n",
              "\n",
              "       [[0., 0., 0.],\n",
              "        [0., 0., 0.],\n",
              "        [0., 0., 0.],\n",
              "        ...,\n",
              "        [0., 0., 0.],\n",
              "        [0., 0., 0.],\n",
              "        [0., 0., 0.]]], dtype=float32)"
            ]
          },
          "metadata": {
            "tags": []
          },
          "execution_count": 64
        }
      ]
    },
    {
      "cell_type": "code",
      "metadata": {
        "id": "fShvYYbv185j",
        "outputId": "ad28430d-3034-4760-cdea-27ffcb757f18",
        "colab": {
          "base_uri": "https://localhost:8080/"
        }
      },
      "source": [
        "x.shape"
      ],
      "execution_count": 65,
      "outputs": [
        {
          "output_type": "execute_result",
          "data": {
            "text/plain": [
              "(224, 224, 3)"
            ]
          },
          "metadata": {
            "tags": []
          },
          "execution_count": 65
        }
      ]
    },
    {
      "cell_type": "code",
      "metadata": {
        "id": "r9zt1sr4185m"
      },
      "source": [
        "x=x/255"
      ],
      "execution_count": 66,
      "outputs": []
    },
    {
      "cell_type": "code",
      "metadata": {
        "id": "X0923IuM185p",
        "outputId": "560d9490-ef86-4710-ec22-a89c4ec031e2",
        "colab": {
          "base_uri": "https://localhost:8080/"
        }
      },
      "source": [
        "x=np.expand_dims(x,axis=0)\n",
        "img_data=preprocess_input(x)\n",
        "img_data.shape"
      ],
      "execution_count": 67,
      "outputs": [
        {
          "output_type": "execute_result",
          "data": {
            "text/plain": [
              "(1, 224, 224, 3)"
            ]
          },
          "metadata": {
            "tags": []
          },
          "execution_count": 67
        }
      ]
    },
    {
      "cell_type": "code",
      "metadata": {
        "id": "UhJAvYpK185s",
        "outputId": "1090bbe2-1f91-452f-f906-2ae079f080f9",
        "colab": {
          "base_uri": "https://localhost:8080/"
        }
      },
      "source": [
        "model.predict(img_data)"
      ],
      "execution_count": 68,
      "outputs": [
        {
          "output_type": "execute_result",
          "data": {
            "text/plain": [
              "array([[0., 1.]], dtype=float32)"
            ]
          },
          "metadata": {
            "tags": []
          },
          "execution_count": 68
        }
      ]
    },
    {
      "cell_type": "code",
      "metadata": {
        "id": "Gpq1qlm6185v"
      },
      "source": [
        "a=np.argmax(model.predict(img_data), axis=1)"
      ],
      "execution_count": 69,
      "outputs": []
    },
    {
      "cell_type": "code",
      "metadata": {
        "id": "IaodbSIuG9hJ",
        "outputId": "a6dff20d-9547-4c45-e97a-cb9f3742ca2d",
        "colab": {
          "base_uri": "https://localhost:8080/"
        }
      },
      "source": [
        "print(a)"
      ],
      "execution_count": 70,
      "outputs": [
        {
          "output_type": "stream",
          "text": [
            "[1]\n"
          ],
          "name": "stdout"
        }
      ]
    },
    {
      "cell_type": "code",
      "metadata": {
        "id": "WyHI_sF3185z",
        "outputId": "e7e4f2af-7aa2-4926-b084-bbc7c829b243",
        "colab": {
          "base_uri": "https://localhost:8080/"
        }
      },
      "source": [
        "if(a==1):\n",
        "    print(\"Uninfected\")\n",
        "else:\n",
        "    print(\"Infected\")"
      ],
      "execution_count": 71,
      "outputs": [
        {
          "output_type": "stream",
          "text": [
            "Uninfected\n"
          ],
          "name": "stdout"
        }
      ]
    },
    {
      "cell_type": "code",
      "metadata": {
        "id": "TC0X6lqw1852"
      },
      "source": [
        ""
      ],
      "execution_count": 71,
      "outputs": []
    },
    {
      "cell_type": "code",
      "metadata": {
        "id": "Lcf72t1H1855"
      },
      "source": [
        ""
      ],
      "execution_count": 71,
      "outputs": []
    }
  ]
}